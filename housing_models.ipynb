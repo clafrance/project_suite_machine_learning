{
 "cells": [
  {
   "cell_type": "code",
   "execution_count": 24,
   "metadata": {},
   "outputs": [],
   "source": [
    "from sklearn import tree\n",
    "import pandas as pd\n",
    "import os\n",
    "import matplotlib.pyplot as plt\n",
    "import seaborn as sb"
   ]
  },
  {
   "cell_type": "code",
   "execution_count": 25,
   "metadata": {},
   "outputs": [
    {
     "data": {
      "text/html": [
       "<div>\n",
       "<style scoped>\n",
       "    .dataframe tbody tr th:only-of-type {\n",
       "        vertical-align: middle;\n",
       "    }\n",
       "\n",
       "    .dataframe tbody tr th {\n",
       "        vertical-align: top;\n",
       "    }\n",
       "\n",
       "    .dataframe thead th {\n",
       "        text-align: right;\n",
       "    }\n",
       "</style>\n",
       "<table border=\"1\" class=\"dataframe\">\n",
       "  <thead>\n",
       "    <tr style=\"text-align: right;\">\n",
       "      <th></th>\n",
       "      <th>Population</th>\n",
       "      <th>Median Age</th>\n",
       "      <th>Household Income</th>\n",
       "      <th>median_home_value</th>\n",
       "      <th>Poverty Rate</th>\n",
       "      <th>Unemployment rate</th>\n",
       "      <th>house_count</th>\n",
       "    </tr>\n",
       "  </thead>\n",
       "  <tbody>\n",
       "    <tr>\n",
       "      <th>0</th>\n",
       "      <td>17423.0</td>\n",
       "      <td>45.0</td>\n",
       "      <td>56714.0</td>\n",
       "      <td>202800.0</td>\n",
       "      <td>8.391207</td>\n",
       "      <td>2.749240</td>\n",
       "      <td>213900</td>\n",
       "    </tr>\n",
       "    <tr>\n",
       "      <th>1</th>\n",
       "      <td>29970.0</td>\n",
       "      <td>23.2</td>\n",
       "      <td>48923.0</td>\n",
       "      <td>344000.0</td>\n",
       "      <td>27.864531</td>\n",
       "      <td>4.240908</td>\n",
       "      <td>333400</td>\n",
       "    </tr>\n",
       "    <tr>\n",
       "      <th>2</th>\n",
       "      <td>5228.0</td>\n",
       "      <td>44.1</td>\n",
       "      <td>70568.0</td>\n",
       "      <td>213700.0</td>\n",
       "      <td>4.399388</td>\n",
       "      <td>2.926549</td>\n",
       "      <td>231500</td>\n",
       "    </tr>\n",
       "    <tr>\n",
       "      <th>3</th>\n",
       "      <td>14888.0</td>\n",
       "      <td>42.5</td>\n",
       "      <td>80502.0</td>\n",
       "      <td>258000.0</td>\n",
       "      <td>9.470715</td>\n",
       "      <td>3.647233</td>\n",
       "      <td>278400</td>\n",
       "    </tr>\n",
       "    <tr>\n",
       "      <th>4</th>\n",
       "      <td>1194.0</td>\n",
       "      <td>48.5</td>\n",
       "      <td>67250.0</td>\n",
       "      <td>235000.0</td>\n",
       "      <td>4.103853</td>\n",
       "      <td>5.276382</td>\n",
       "      <td>227600</td>\n",
       "    </tr>\n",
       "  </tbody>\n",
       "</table>\n",
       "</div>"
      ],
      "text/plain": [
       "   Population  Median Age  Household Income  median_home_value  Poverty Rate  \\\n",
       "0     17423.0        45.0           56714.0           202800.0      8.391207   \n",
       "1     29970.0        23.2           48923.0           344000.0     27.864531   \n",
       "2      5228.0        44.1           70568.0           213700.0      4.399388   \n",
       "3     14888.0        42.5           80502.0           258000.0      9.470715   \n",
       "4      1194.0        48.5           67250.0           235000.0      4.103853   \n",
       "\n",
       "   Unemployment rate  house_count  \n",
       "0           2.749240       213900  \n",
       "1           4.240908       333400  \n",
       "2           2.926549       231500  \n",
       "3           3.647233       278400  \n",
       "4           5.276382       227600  "
      ]
     },
     "execution_count": 25,
     "metadata": {},
     "output_type": "execute_result"
    }
   ],
   "source": [
    "#reading csv\n",
    "df = pd.read_csv(\"home_value_calc.csv\")\n",
    "#df = pd.read_csv(\"census_data.csv\")\n",
    "df.head()"
   ]
  },
  {
   "cell_type": "code",
   "execution_count": 26,
   "metadata": {},
   "outputs": [
    {
     "data": {
      "text/html": [
       "<div>\n",
       "<style scoped>\n",
       "    .dataframe tbody tr th:only-of-type {\n",
       "        vertical-align: middle;\n",
       "    }\n",
       "\n",
       "    .dataframe tbody tr th {\n",
       "        vertical-align: top;\n",
       "    }\n",
       "\n",
       "    .dataframe thead th {\n",
       "        text-align: right;\n",
       "    }\n",
       "</style>\n",
       "<table border=\"1\" class=\"dataframe\">\n",
       "  <thead>\n",
       "    <tr style=\"text-align: right;\">\n",
       "      <th></th>\n",
       "      <th>Population</th>\n",
       "      <th>Median Age</th>\n",
       "      <th>Household Income</th>\n",
       "      <th>median_home_value</th>\n",
       "      <th>Poverty Rate</th>\n",
       "      <th>Unemployment rate</th>\n",
       "      <th>house_count</th>\n",
       "    </tr>\n",
       "  </thead>\n",
       "  <tbody>\n",
       "    <tr>\n",
       "      <th>count</th>\n",
       "      <td>15563.000000</td>\n",
       "      <td>1.556300e+04</td>\n",
       "      <td>1.556300e+04</td>\n",
       "      <td>1.556300e+04</td>\n",
       "      <td>15563.000000</td>\n",
       "      <td>15563.000000</td>\n",
       "      <td>1.556300e+04</td>\n",
       "    </tr>\n",
       "    <tr>\n",
       "      <th>mean</th>\n",
       "      <td>17464.464563</td>\n",
       "      <td>-8.563245e+04</td>\n",
       "      <td>-4.522467e+05</td>\n",
       "      <td>-1.984790e+05</td>\n",
       "      <td>12.648011</td>\n",
       "      <td>3.369888</td>\n",
       "      <td>2.752745e+05</td>\n",
       "    </tr>\n",
       "    <tr>\n",
       "      <th>std</th>\n",
       "      <td>16508.149140</td>\n",
       "      <td>7.557239e+06</td>\n",
       "      <td>1.850716e+07</td>\n",
       "      <td>1.690099e+07</td>\n",
       "      <td>7.616785</td>\n",
       "      <td>1.516426</td>\n",
       "      <td>2.716065e+05</td>\n",
       "    </tr>\n",
       "    <tr>\n",
       "      <th>min</th>\n",
       "      <td>15.000000</td>\n",
       "      <td>-6.666667e+08</td>\n",
       "      <td>-6.666667e+08</td>\n",
       "      <td>-6.666667e+08</td>\n",
       "      <td>0.000000</td>\n",
       "      <td>0.000000</td>\n",
       "      <td>2.190000e+04</td>\n",
       "    </tr>\n",
       "    <tr>\n",
       "      <th>25%</th>\n",
       "      <td>4269.000000</td>\n",
       "      <td>3.630000e+01</td>\n",
       "      <td>4.517550e+04</td>\n",
       "      <td>1.210000e+05</td>\n",
       "      <td>6.823855</td>\n",
       "      <td>2.341638</td>\n",
       "      <td>1.355000e+05</td>\n",
       "    </tr>\n",
       "    <tr>\n",
       "      <th>50%</th>\n",
       "      <td>11947.000000</td>\n",
       "      <td>4.070000e+01</td>\n",
       "      <td>5.589300e+04</td>\n",
       "      <td>1.709000e+05</td>\n",
       "      <td>11.155877</td>\n",
       "      <td>3.183341</td>\n",
       "      <td>2.001000e+05</td>\n",
       "    </tr>\n",
       "    <tr>\n",
       "      <th>75%</th>\n",
       "      <td>26557.500000</td>\n",
       "      <td>4.460000e+01</td>\n",
       "      <td>7.229400e+04</td>\n",
       "      <td>2.699000e+05</td>\n",
       "      <td>16.897205</td>\n",
       "      <td>4.186067</td>\n",
       "      <td>3.153500e+05</td>\n",
       "    </tr>\n",
       "    <tr>\n",
       "      <th>max</th>\n",
       "      <td>115104.000000</td>\n",
       "      <td>7.550000e+01</td>\n",
       "      <td>2.500010e+05</td>\n",
       "      <td>2.000001e+06</td>\n",
       "      <td>71.000000</td>\n",
       "      <td>25.198098</td>\n",
       "      <td>6.613200e+06</td>\n",
       "    </tr>\n",
       "  </tbody>\n",
       "</table>\n",
       "</div>"
      ],
      "text/plain": [
       "          Population    Median Age  Household Income  median_home_value  \\\n",
       "count   15563.000000  1.556300e+04      1.556300e+04       1.556300e+04   \n",
       "mean    17464.464563 -8.563245e+04     -4.522467e+05      -1.984790e+05   \n",
       "std     16508.149140  7.557239e+06      1.850716e+07       1.690099e+07   \n",
       "min        15.000000 -6.666667e+08     -6.666667e+08      -6.666667e+08   \n",
       "25%      4269.000000  3.630000e+01      4.517550e+04       1.210000e+05   \n",
       "50%     11947.000000  4.070000e+01      5.589300e+04       1.709000e+05   \n",
       "75%     26557.500000  4.460000e+01      7.229400e+04       2.699000e+05   \n",
       "max    115104.000000  7.550000e+01      2.500010e+05       2.000001e+06   \n",
       "\n",
       "       Poverty Rate  Unemployment rate   house_count  \n",
       "count  15563.000000       15563.000000  1.556300e+04  \n",
       "mean      12.648011           3.369888  2.752745e+05  \n",
       "std        7.616785           1.516426  2.716065e+05  \n",
       "min        0.000000           0.000000  2.190000e+04  \n",
       "25%        6.823855           2.341638  1.355000e+05  \n",
       "50%       11.155877           3.183341  2.001000e+05  \n",
       "75%       16.897205           4.186067  3.153500e+05  \n",
       "max       71.000000          25.198098  6.613200e+06  "
      ]
     },
     "execution_count": 26,
     "metadata": {},
     "output_type": "execute_result"
    }
   ],
   "source": [
    "#dropping zipcode - will need to do join when we get more data\n",
    "    #new data file dropped zip already\n",
    "#df = df.drop(\"Zipcode\",axis=1)\n",
    "df.describe()"
   ]
  },
  {
   "cell_type": "code",
   "execution_count": 27,
   "metadata": {},
   "outputs": [
    {
     "name": "stdout",
     "output_type": "stream",
     "text": [
      "minimum stats\n",
      "-------\n",
      "Population                  15.0\n",
      "Median Age          -666666666.0\n",
      "Household Income    -666666666.0\n",
      "median_home_value   -666666666.0\n",
      "Poverty Rate                 0.0\n",
      "Unemployment rate            0.0\n",
      "house_count              21900.0\n",
      "dtype: float64\n",
      "-------\n",
      "maximum stats\n",
      "-------\n",
      "Population           1.151040e+05\n",
      "Median Age           7.550000e+01\n",
      "Household Income     2.500010e+05\n",
      "median_home_value    2.000001e+06\n",
      "Poverty Rate         7.100000e+01\n",
      "Unemployment rate    2.519810e+01\n",
      "house_count          6.613200e+06\n",
      "dtype: float64\n"
     ]
    }
   ],
   "source": [
    "print(\"minimum stats\")\n",
    "print(\"-------\")\n",
    "print(df.min())\n",
    "print(\"-------\")\n",
    "print(\"maximum stats\")\n",
    "print(\"-------\")\n",
    "print(df.max())"
   ]
  },
  {
   "cell_type": "code",
   "execution_count": 28,
   "metadata": {},
   "outputs": [
    {
     "data": {
      "text/html": [
       "<div>\n",
       "<style scoped>\n",
       "    .dataframe tbody tr th:only-of-type {\n",
       "        vertical-align: middle;\n",
       "    }\n",
       "\n",
       "    .dataframe tbody tr th {\n",
       "        vertical-align: top;\n",
       "    }\n",
       "\n",
       "    .dataframe thead th {\n",
       "        text-align: right;\n",
       "    }\n",
       "</style>\n",
       "<table border=\"1\" class=\"dataframe\">\n",
       "  <thead>\n",
       "    <tr style=\"text-align: right;\">\n",
       "      <th></th>\n",
       "      <th>Population</th>\n",
       "      <th>Median Age</th>\n",
       "      <th>Household Income</th>\n",
       "      <th>median_home_value</th>\n",
       "      <th>Poverty Rate</th>\n",
       "      <th>Unemployment rate</th>\n",
       "      <th>house_count</th>\n",
       "    </tr>\n",
       "  </thead>\n",
       "  <tbody>\n",
       "    <tr>\n",
       "      <th>count</th>\n",
       "      <td>15563.000000</td>\n",
       "      <td>1.556300e+04</td>\n",
       "      <td>1.556300e+04</td>\n",
       "      <td>1.556300e+04</td>\n",
       "      <td>15563.000000</td>\n",
       "      <td>15563.000000</td>\n",
       "      <td>1.556300e+04</td>\n",
       "    </tr>\n",
       "    <tr>\n",
       "      <th>mean</th>\n",
       "      <td>17464.464563</td>\n",
       "      <td>-8.563245e+04</td>\n",
       "      <td>-4.522467e+05</td>\n",
       "      <td>-1.984790e+05</td>\n",
       "      <td>12.648011</td>\n",
       "      <td>3.369888</td>\n",
       "      <td>2.752745e+05</td>\n",
       "    </tr>\n",
       "    <tr>\n",
       "      <th>std</th>\n",
       "      <td>16508.149140</td>\n",
       "      <td>7.557239e+06</td>\n",
       "      <td>1.850716e+07</td>\n",
       "      <td>1.690099e+07</td>\n",
       "      <td>7.616785</td>\n",
       "      <td>1.516426</td>\n",
       "      <td>2.716065e+05</td>\n",
       "    </tr>\n",
       "    <tr>\n",
       "      <th>min</th>\n",
       "      <td>15.000000</td>\n",
       "      <td>-6.666667e+08</td>\n",
       "      <td>-6.666667e+08</td>\n",
       "      <td>-6.666667e+08</td>\n",
       "      <td>0.000000</td>\n",
       "      <td>0.000000</td>\n",
       "      <td>2.190000e+04</td>\n",
       "    </tr>\n",
       "    <tr>\n",
       "      <th>25%</th>\n",
       "      <td>4269.000000</td>\n",
       "      <td>3.630000e+01</td>\n",
       "      <td>4.517550e+04</td>\n",
       "      <td>1.210000e+05</td>\n",
       "      <td>6.823855</td>\n",
       "      <td>2.341638</td>\n",
       "      <td>1.355000e+05</td>\n",
       "    </tr>\n",
       "    <tr>\n",
       "      <th>50%</th>\n",
       "      <td>11947.000000</td>\n",
       "      <td>4.070000e+01</td>\n",
       "      <td>5.589300e+04</td>\n",
       "      <td>1.709000e+05</td>\n",
       "      <td>11.155877</td>\n",
       "      <td>3.183341</td>\n",
       "      <td>2.001000e+05</td>\n",
       "    </tr>\n",
       "    <tr>\n",
       "      <th>75%</th>\n",
       "      <td>26557.500000</td>\n",
       "      <td>4.460000e+01</td>\n",
       "      <td>7.229400e+04</td>\n",
       "      <td>2.699000e+05</td>\n",
       "      <td>16.897205</td>\n",
       "      <td>4.186067</td>\n",
       "      <td>3.153500e+05</td>\n",
       "    </tr>\n",
       "    <tr>\n",
       "      <th>max</th>\n",
       "      <td>115104.000000</td>\n",
       "      <td>7.550000e+01</td>\n",
       "      <td>2.500010e+05</td>\n",
       "      <td>2.000001e+06</td>\n",
       "      <td>71.000000</td>\n",
       "      <td>25.198098</td>\n",
       "      <td>6.613200e+06</td>\n",
       "    </tr>\n",
       "  </tbody>\n",
       "</table>\n",
       "</div>"
      ],
      "text/plain": [
       "          Population    Median Age  Household Income  median_home_value  \\\n",
       "count   15563.000000  1.556300e+04      1.556300e+04       1.556300e+04   \n",
       "mean    17464.464563 -8.563245e+04     -4.522467e+05      -1.984790e+05   \n",
       "std     16508.149140  7.557239e+06      1.850716e+07       1.690099e+07   \n",
       "min        15.000000 -6.666667e+08     -6.666667e+08      -6.666667e+08   \n",
       "25%      4269.000000  3.630000e+01      4.517550e+04       1.210000e+05   \n",
       "50%     11947.000000  4.070000e+01      5.589300e+04       1.709000e+05   \n",
       "75%     26557.500000  4.460000e+01      7.229400e+04       2.699000e+05   \n",
       "max    115104.000000  7.550000e+01      2.500010e+05       2.000001e+06   \n",
       "\n",
       "       Poverty Rate  Unemployment rate   house_count  \n",
       "count  15563.000000       15563.000000  1.556300e+04  \n",
       "mean      12.648011           3.369888  2.752745e+05  \n",
       "std        7.616785           1.516426  2.716065e+05  \n",
       "min        0.000000           0.000000  2.190000e+04  \n",
       "25%        6.823855           2.341638  1.355000e+05  \n",
       "50%       11.155877           3.183341  2.001000e+05  \n",
       "75%       16.897205           4.186067  3.153500e+05  \n",
       "max       71.000000          25.198098  6.613200e+06  "
      ]
     },
     "execution_count": 28,
     "metadata": {},
     "output_type": "execute_result"
    }
   ],
   "source": [
    "#drops zeros\n",
    "df.dropna()\n",
    "df.describe()"
   ]
  },
  {
   "cell_type": "code",
   "execution_count": 29,
   "metadata": {},
   "outputs": [
    {
     "data": {
      "text/html": [
       "<div>\n",
       "<style scoped>\n",
       "    .dataframe tbody tr th:only-of-type {\n",
       "        vertical-align: middle;\n",
       "    }\n",
       "\n",
       "    .dataframe tbody tr th {\n",
       "        vertical-align: top;\n",
       "    }\n",
       "\n",
       "    .dataframe thead th {\n",
       "        text-align: right;\n",
       "    }\n",
       "</style>\n",
       "<table border=\"1\" class=\"dataframe\">\n",
       "  <thead>\n",
       "    <tr style=\"text-align: right;\">\n",
       "      <th></th>\n",
       "      <th>Population</th>\n",
       "      <th>Median Age</th>\n",
       "      <th>Household Income</th>\n",
       "      <th>median_home_value</th>\n",
       "      <th>Poverty Rate</th>\n",
       "      <th>Unemployment rate</th>\n",
       "      <th>house_count</th>\n",
       "    </tr>\n",
       "  </thead>\n",
       "  <tbody>\n",
       "    <tr>\n",
       "      <th>count</th>\n",
       "      <td>15482.000000</td>\n",
       "      <td>15482.000000</td>\n",
       "      <td>15482.000000</td>\n",
       "      <td>1.548200e+04</td>\n",
       "      <td>15482.000000</td>\n",
       "      <td>15482.000000</td>\n",
       "      <td>1.548200e+04</td>\n",
       "    </tr>\n",
       "    <tr>\n",
       "      <th>mean</th>\n",
       "      <td>17549.016600</td>\n",
       "      <td>40.784815</td>\n",
       "      <td>61797.342333</td>\n",
       "      <td>2.294391e+05</td>\n",
       "      <td>12.661956</td>\n",
       "      <td>3.381465</td>\n",
       "      <td>2.741827e+05</td>\n",
       "    </tr>\n",
       "    <tr>\n",
       "      <th>std</th>\n",
       "      <td>16509.474385</td>\n",
       "      <td>6.738637</td>\n",
       "      <td>24591.887721</td>\n",
       "      <td>1.841031e+05</td>\n",
       "      <td>7.585542</td>\n",
       "      <td>1.497233</td>\n",
       "      <td>2.684543e+05</td>\n",
       "    </tr>\n",
       "    <tr>\n",
       "      <th>min</th>\n",
       "      <td>84.000000</td>\n",
       "      <td>19.000000</td>\n",
       "      <td>12493.000000</td>\n",
       "      <td>3.350000e+04</td>\n",
       "      <td>0.072780</td>\n",
       "      <td>0.054230</td>\n",
       "      <td>2.190000e+04</td>\n",
       "    </tr>\n",
       "    <tr>\n",
       "      <th>25%</th>\n",
       "      <td>4347.500000</td>\n",
       "      <td>36.300000</td>\n",
       "      <td>45181.750000</td>\n",
       "      <td>1.209000e+05</td>\n",
       "      <td>6.844980</td>\n",
       "      <td>2.351702</td>\n",
       "      <td>1.354000e+05</td>\n",
       "    </tr>\n",
       "    <tr>\n",
       "      <th>50%</th>\n",
       "      <td>12065.500000</td>\n",
       "      <td>40.700000</td>\n",
       "      <td>55857.000000</td>\n",
       "      <td>1.707000e+05</td>\n",
       "      <td>11.167109</td>\n",
       "      <td>3.188249</td>\n",
       "      <td>1.995500e+05</td>\n",
       "    </tr>\n",
       "    <tr>\n",
       "      <th>75%</th>\n",
       "      <td>26695.750000</td>\n",
       "      <td>44.600000</td>\n",
       "      <td>72256.750000</td>\n",
       "      <td>2.691000e+05</td>\n",
       "      <td>16.902552</td>\n",
       "      <td>4.189528</td>\n",
       "      <td>3.144750e+05</td>\n",
       "    </tr>\n",
       "    <tr>\n",
       "      <th>max</th>\n",
       "      <td>115104.000000</td>\n",
       "      <td>75.500000</td>\n",
       "      <td>250001.000000</td>\n",
       "      <td>2.000001e+06</td>\n",
       "      <td>60.944206</td>\n",
       "      <td>25.198098</td>\n",
       "      <td>6.613200e+06</td>\n",
       "    </tr>\n",
       "  </tbody>\n",
       "</table>\n",
       "</div>"
      ],
      "text/plain": [
       "          Population    Median Age  Household Income  median_home_value  \\\n",
       "count   15482.000000  15482.000000      15482.000000       1.548200e+04   \n",
       "mean    17549.016600     40.784815      61797.342333       2.294391e+05   \n",
       "std     16509.474385      6.738637      24591.887721       1.841031e+05   \n",
       "min        84.000000     19.000000      12493.000000       3.350000e+04   \n",
       "25%      4347.500000     36.300000      45181.750000       1.209000e+05   \n",
       "50%     12065.500000     40.700000      55857.000000       1.707000e+05   \n",
       "75%     26695.750000     44.600000      72256.750000       2.691000e+05   \n",
       "max    115104.000000     75.500000     250001.000000       2.000001e+06   \n",
       "\n",
       "       Poverty Rate  Unemployment rate   house_count  \n",
       "count  15482.000000       15482.000000  1.548200e+04  \n",
       "mean      12.661956           3.381465  2.741827e+05  \n",
       "std        7.585542           1.497233  2.684543e+05  \n",
       "min        0.072780           0.054230  2.190000e+04  \n",
       "25%        6.844980           2.351702  1.354000e+05  \n",
       "50%       11.167109           3.188249  1.995500e+05  \n",
       "75%       16.902552           4.189528  3.144750e+05  \n",
       "max       60.944206          25.198098  6.613200e+06  "
      ]
     },
     "execution_count": 29,
     "metadata": {},
     "output_type": "execute_result"
    }
   ],
   "source": [
    "#drops any negative values because they're more then likely errors\n",
    "df = df.loc[(df>0).all(axis=1)] \n",
    "df.describe()"
   ]
  },
  {
   "cell_type": "code",
   "execution_count": 30,
   "metadata": {},
   "outputs": [
    {
     "name": "stdout",
     "output_type": "stream",
     "text": [
      "(15482, 6) (15482,)\n"
     ]
    }
   ],
   "source": [
    "#segment out my Y-target and X's-data\n",
    "target = df['median_home_value']\n",
    "data = df.drop('median_home_value', axis = 1)\n",
    "print(data.shape, target.shape)"
   ]
  },
  {
   "cell_type": "code",
   "execution_count": 31,
   "metadata": {},
   "outputs": [],
   "source": [
    "#importing test train and scaling data down\n",
    "from sklearn.model_selection import train_test_split\n",
    "from sklearn.preprocessing import LabelEncoder, StandardScaler\n",
    "target = target.values.reshape(-1, 1)\n",
    "X_train, X_test, y_train, y_test = train_test_split(data, target, random_state=42)\n",
    "X_scaler = StandardScaler().fit(X_train)\n",
    "X_train_scaled = X_scaler.transform(X_train)\n",
    "X_test_scaled = X_scaler.transform(X_test)\n",
    "y_scaler = StandardScaler().fit(y_train)\n",
    "y_train_scaled = y_scaler.transform(y_train)\n",
    "y_test_scaled = y_scaler.transform(y_test)\n"
   ]
  },
  {
   "cell_type": "code",
   "execution_count": null,
   "metadata": {},
   "outputs": [],
   "source": []
  },
  {
   "cell_type": "code",
   "execution_count": 32,
   "metadata": {},
   "outputs": [
    {
     "data": {
      "text/plain": [
       "0.891471639576922"
      ]
     },
     "execution_count": 32,
     "metadata": {},
     "output_type": "execute_result"
    }
   ],
   "source": [
    "#creating a decision tree model  and testing it\n",
    "from sklearn.tree import DecisionTreeRegressor\n",
    "clf = tree.DecisionTreeRegressor()\n",
    "clf = clf.fit(X_train_scaled, y_train_scaled)\n",
    "clf.score(X_test_scaled, y_test_scaled)"
   ]
  },
  {
   "cell_type": "code",
   "execution_count": 37,
   "metadata": {},
   "outputs": [
    {
     "name": "stderr",
     "output_type": "stream",
     "text": [
      "/anaconda3/envs/python36/lib/python3.6/site-packages/ipykernel_launcher.py:4: DataConversionWarning: A column-vector y was passed when a 1d array was expected. Please change the shape of y to (n_samples,), for example using ravel().\n",
      "  after removing the cwd from sys.path.\n"
     ]
    },
    {
     "data": {
      "text/plain": [
       "0.936503357732517"
      ]
     },
     "execution_count": 37,
     "metadata": {},
     "output_type": "execute_result"
    }
   ],
   "source": [
    "#importing a random forest regression model and testing it\n",
    "from sklearn.ensemble import RandomForestRegressor\n",
    "rf = RandomForestRegressor(n_estimators=200)\n",
    "rf = rf.fit(X_train_scaled, y_train_scaled)\n",
    "rf.score(X_test_scaled, y_test_scaled)"
   ]
  },
  {
   "cell_type": "code",
   "execution_count": 38,
   "metadata": {},
   "outputs": [
    {
     "data": {
      "text/plain": [
       "array([0.00866878, 0.01019037, 0.02275516, 0.0076649 , 0.0074321 ,\n",
       "       0.94328868])"
      ]
     },
     "execution_count": 38,
     "metadata": {},
     "output_type": "execute_result"
    }
   ],
   "source": [
    "importances = rf.feature_importances_\n",
    "importances"
   ]
  },
  {
   "cell_type": "code",
   "execution_count": 41,
   "metadata": {},
   "outputs": [
    {
     "data": {
      "text/plain": [
       "[(0.9432886846428303, 'house_count'),\n",
       " (0.022755159594424604, 'Household Income'),\n",
       " (0.010190371559032674, 'Median Age'),\n",
       " (0.008668783673749202, 'Population'),\n",
       " (0.007664900415528476, 'Poverty Rate'),\n",
       " (0.007432100114434813, 'Unemployment rate')]"
      ]
     },
     "execution_count": 41,
     "metadata": {},
     "output_type": "execute_result"
    }
   ],
   "source": [
    "sorted(zip(rf.feature_importances_, data.keys()), reverse=True)"
   ]
  },
  {
   "cell_type": "code",
   "execution_count": null,
   "metadata": {},
   "outputs": [],
   "source": [
    "#ignore for now- need to look into nn regression\n",
    "from keras.models import Sequential\n",
    "from keras.layers import Dense\n",
    "\n",
    "model = Sequential()\n",
    "model.add(Dense(units=100, activation='relu', input_dim=6))\n",
    "#model.add(Dense(units=100, activation='relu'))\n",
    "model.add(Dense(units=2000002, activation='softmax'))"
   ]
  },
  {
   "cell_type": "code",
   "execution_count": null,
   "metadata": {},
   "outputs": [],
   "source": [
    "#also ignore  still doing research\n",
    "model.compile(optimizer='adam',\n",
    "              loss='categorical_crossentropy',\n",
    "              metrics=['accuracy'])\n",
    "model.fit(\n",
    "    X_train_scaled,\n",
    "    y_train_categorical,\n",
    "    epochs=60,\n",
    "    shuffle=True,\n",
    "    verbose=0\n",
    ")"
   ]
  },
  {
   "cell_type": "code",
   "execution_count": null,
   "metadata": {},
   "outputs": [],
   "source": []
  },
  {
   "cell_type": "code",
   "execution_count": 34,
   "metadata": {},
   "outputs": [
    {
     "data": {
      "text/plain": [
       "LinearRegression(copy_X=True, fit_intercept=True, n_jobs=1, normalize=False)"
      ]
     },
     "execution_count": 34,
     "metadata": {},
     "output_type": "execute_result"
    }
   ],
   "source": [
    "#importing a linear regression model and fitting it\n",
    "from sklearn.linear_model import LinearRegression\n",
    "model = LinearRegression()\n",
    "model.fit(X_train_scaled, y_train_scaled)"
   ]
  },
  {
   "cell_type": "code",
   "execution_count": 35,
   "metadata": {},
   "outputs": [
    {
     "name": "stdout",
     "output_type": "stream",
     "text": [
      "MSE: 0.0642025425082268, R2: 0.9319738906307522\n"
     ]
    }
   ],
   "source": [
    "#looking at mse and r2 scores for the linear regression model - ignore MSE \n",
    "from sklearn.metrics import mean_squared_error\n",
    "\n",
    "predictions = model.predict(X_test_scaled)\n",
    "MSE = mean_squared_error(y_test_scaled, predictions)\n",
    "r2 = model.score(X_test_scaled, y_test_scaled)\n",
    "\n",
    "print(f\"MSE: {MSE}, R2: {r2}\")"
   ]
  },
  {
   "cell_type": "code",
   "execution_count": 36,
   "metadata": {},
   "outputs": [
    {
     "data": {
      "image/png": "[encoded data removed]",
      "text/plain": [
       "<Figure size 432x288 with 1 Axes>"
      ]
     },
     "metadata": {
      "needs_background": "light"
     },
     "output_type": "display_data"
    }
   ],
   "source": [
    "#still unsure how to uderstand this pls ignore\n",
    "plt.scatter(model.predict(X_train_scaled), model.predict(X_train_scaled) - y_train_scaled, c=\"blue\", label=\"Training Data\")\n",
    "plt.scatter(model.predict(X_test_scaled), model.predict(X_test_scaled) - y_test_scaled, c=\"orange\", label=\"Testing Data\")\n",
    "plt.legend()\n",
    "plt.hlines(y=0, xmin=y_test_scaled.min(), xmax=y_test_scaled.max())\n",
    "plt.title(\"Residual Plot\")\n",
    "plt.show()"
   ]
  }
 ],
 "metadata": {
  "kernelspec": {
   "display_name": "Python 3",
   "language": "python",
   "name": "python3"
  },
  "language_info": {
   "codemirror_mode": {
    "name": "ipython",
    "version": 3
   },
   "file_extension": ".py",
   "mimetype": "text/x-python",
   "name": "python",
   "nbconvert_exporter": "python",
   "pygments_lexer": "ipython3",
   "version": "3.6.6"
  }
 },
 "nbformat": 4,
 "nbformat_minor": 2
}
