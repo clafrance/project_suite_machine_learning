{
 "cells": [
  {
   "cell_type": "code",
   "execution_count": 15,
   "metadata": {},
   "outputs": [],
   "source": [
    "%matplotlib inline\n",
    "import matplotlib.pyplot as plt\n",
    "import numpy as np\n",
    "import pandas as pd\n",
    "from sklearn import tree\n",
    "\n",
    "import pickle"
   ]
  },
  {
   "cell_type": "markdown",
   "metadata": {},
   "source": [
    "### Prepare Data"
   ]
  },
  {
   "cell_type": "code",
   "execution_count": 16,
   "metadata": {},
   "outputs": [],
   "source": [
    "# Load data from csv files\n",
    "# df = pd.read_csv('cl_Resources/census_data.csv')\n",
    "# df_land = pd.read_csv('cl_Resources/Zipcode-Population-Density-2010.csv')\n",
    "# df_unemployment = pd.read_csv('cl_Resources/Unemployment.csv')\n",
    "df = pd.read_csv('cl_Resources/home_value_calc.csv')"
   ]
  },
  {
   "cell_type": "code",
   "execution_count": 17,
   "metadata": {},
   "outputs": [
    {
     "data": {
      "text/html": [
       "<div>\n",
       "<style scoped>\n",
       "    .dataframe tbody tr th:only-of-type {\n",
       "        vertical-align: middle;\n",
       "    }\n",
       "\n",
       "    .dataframe tbody tr th {\n",
       "        vertical-align: top;\n",
       "    }\n",
       "\n",
       "    .dataframe thead th {\n",
       "        text-align: right;\n",
       "    }\n",
       "</style>\n",
       "<table border=\"1\" class=\"dataframe\">\n",
       "  <thead>\n",
       "    <tr style=\"text-align: right;\">\n",
       "      <th></th>\n",
       "      <th>Zipcode</th>\n",
       "      <th>Population</th>\n",
       "      <th>Median Age</th>\n",
       "      <th>Household Income</th>\n",
       "      <th>median_home_value</th>\n",
       "      <th>Per Capita Income</th>\n",
       "      <th>Masters holders</th>\n",
       "      <th>Bachelor holders</th>\n",
       "      <th>Median gross rent</th>\n",
       "      <th>Poverty Count</th>\n",
       "      <th>...</th>\n",
       "      <th>pop_biz</th>\n",
       "      <th>commute time car</th>\n",
       "      <th>house_age</th>\n",
       "      <th>Land-Sq-Mi</th>\n",
       "      <th>zip_code</th>\n",
       "      <th>latitude</th>\n",
       "      <th>longitude</th>\n",
       "      <th>city</th>\n",
       "      <th>state</th>\n",
       "      <th>county</th>\n",
       "    </tr>\n",
       "  </thead>\n",
       "  <tbody>\n",
       "    <tr>\n",
       "      <th>0</th>\n",
       "      <td>1001</td>\n",
       "      <td>17423.0</td>\n",
       "      <td>45.0</td>\n",
       "      <td>56714.0</td>\n",
       "      <td>202800.0</td>\n",
       "      <td>30430.0</td>\n",
       "      <td>1353.0</td>\n",
       "      <td>2016.0</td>\n",
       "      <td>975.0</td>\n",
       "      <td>1462.0</td>\n",
       "      <td>...</td>\n",
       "      <td>461</td>\n",
       "      <td>NaN</td>\n",
       "      <td>49</td>\n",
       "      <td>11.442</td>\n",
       "      <td>1001</td>\n",
       "      <td>42.140549</td>\n",
       "      <td>-72.788661</td>\n",
       "      <td>Agawam</td>\n",
       "      <td>MA</td>\n",
       "      <td>Hampden</td>\n",
       "    </tr>\n",
       "    <tr>\n",
       "      <th>1</th>\n",
       "      <td>1002</td>\n",
       "      <td>29970.0</td>\n",
       "      <td>23.2</td>\n",
       "      <td>48923.0</td>\n",
       "      <td>344000.0</td>\n",
       "      <td>26072.0</td>\n",
       "      <td>2956.0</td>\n",
       "      <td>3161.0</td>\n",
       "      <td>1206.0</td>\n",
       "      <td>8351.0</td>\n",
       "      <td>...</td>\n",
       "      <td>480</td>\n",
       "      <td>188755.0</td>\n",
       "      <td>47</td>\n",
       "      <td>55.043</td>\n",
       "      <td>1002</td>\n",
       "      <td>42.367092</td>\n",
       "      <td>-72.464571</td>\n",
       "      <td>Amherst</td>\n",
       "      <td>MA</td>\n",
       "      <td>Hampshire</td>\n",
       "    </tr>\n",
       "    <tr>\n",
       "      <th>2</th>\n",
       "      <td>1003</td>\n",
       "      <td>11296.0</td>\n",
       "      <td>19.9</td>\n",
       "      <td>2499.0</td>\n",
       "      <td>-666666666.0</td>\n",
       "      <td>3829.0</td>\n",
       "      <td>10.0</td>\n",
       "      <td>3.0</td>\n",
       "      <td>1150.0</td>\n",
       "      <td>54.0</td>\n",
       "      <td>...</td>\n",
       "      <td>7</td>\n",
       "      <td>NaN</td>\n",
       "      <td>47</td>\n",
       "      <td>0.711</td>\n",
       "      <td>1003</td>\n",
       "      <td>42.369562</td>\n",
       "      <td>-72.635990</td>\n",
       "      <td>Amherst</td>\n",
       "      <td>MA</td>\n",
       "      <td>Hampshire</td>\n",
       "    </tr>\n",
       "    <tr>\n",
       "      <th>3</th>\n",
       "      <td>1005</td>\n",
       "      <td>5228.0</td>\n",
       "      <td>44.1</td>\n",
       "      <td>70568.0</td>\n",
       "      <td>213700.0</td>\n",
       "      <td>32169.0</td>\n",
       "      <td>327.0</td>\n",
       "      <td>505.0</td>\n",
       "      <td>926.0</td>\n",
       "      <td>230.0</td>\n",
       "      <td>...</td>\n",
       "      <td>89</td>\n",
       "      <td>NaN</td>\n",
       "      <td>47</td>\n",
       "      <td>44.242</td>\n",
       "      <td>1005</td>\n",
       "      <td>42.329160</td>\n",
       "      <td>-72.139465</td>\n",
       "      <td>Barre</td>\n",
       "      <td>MA</td>\n",
       "      <td>Worcester</td>\n",
       "    </tr>\n",
       "    <tr>\n",
       "      <th>4</th>\n",
       "      <td>1007</td>\n",
       "      <td>14888.0</td>\n",
       "      <td>42.5</td>\n",
       "      <td>80502.0</td>\n",
       "      <td>258000.0</td>\n",
       "      <td>36359.0</td>\n",
       "      <td>1455.0</td>\n",
       "      <td>2185.0</td>\n",
       "      <td>921.0</td>\n",
       "      <td>1410.0</td>\n",
       "      <td>...</td>\n",
       "      <td>441</td>\n",
       "      <td>NaN</td>\n",
       "      <td>36</td>\n",
       "      <td>52.643</td>\n",
       "      <td>1007</td>\n",
       "      <td>42.280267</td>\n",
       "      <td>-72.402056</td>\n",
       "      <td>Belchertown</td>\n",
       "      <td>MA</td>\n",
       "      <td>Hampshire</td>\n",
       "    </tr>\n",
       "  </tbody>\n",
       "</table>\n",
       "<p>5 rows × 26 columns</p>\n",
       "</div>"
      ],
      "text/plain": [
       "   Zipcode  Population  Median Age  Household Income  median_home_value  \\\n",
       "0     1001     17423.0        45.0           56714.0           202800.0   \n",
       "1     1002     29970.0        23.2           48923.0           344000.0   \n",
       "2     1003     11296.0        19.9            2499.0       -666666666.0   \n",
       "3     1005      5228.0        44.1           70568.0           213700.0   \n",
       "4     1007     14888.0        42.5           80502.0           258000.0   \n",
       "\n",
       "   Per Capita Income  Masters holders  Bachelor holders  Median gross rent  \\\n",
       "0            30430.0           1353.0            2016.0              975.0   \n",
       "1            26072.0           2956.0            3161.0             1206.0   \n",
       "2             3829.0             10.0               3.0             1150.0   \n",
       "3            32169.0            327.0             505.0              926.0   \n",
       "4            36359.0           1455.0            2185.0              921.0   \n",
       "\n",
       "   Poverty Count    ...      pop_biz  commute time car  house_age  Land-Sq-Mi  \\\n",
       "0         1462.0    ...          461               NaN         49      11.442   \n",
       "1         8351.0    ...          480          188755.0         47      55.043   \n",
       "2           54.0    ...            7               NaN         47       0.711   \n",
       "3          230.0    ...           89               NaN         47      44.242   \n",
       "4         1410.0    ...          441               NaN         36      52.643   \n",
       "\n",
       "   zip_code   latitude  longitude         city  state     county  \n",
       "0      1001  42.140549 -72.788661       Agawam     MA    Hampden  \n",
       "1      1002  42.367092 -72.464571      Amherst     MA  Hampshire  \n",
       "2      1003  42.369562 -72.635990      Amherst     MA  Hampshire  \n",
       "3      1005  42.329160 -72.139465        Barre     MA  Worcester  \n",
       "4      1007  42.280267 -72.402056  Belchertown     MA  Hampshire  \n",
       "\n",
       "[5 rows x 26 columns]"
      ]
     },
     "execution_count": 17,
     "metadata": {},
     "output_type": "execute_result"
    }
   ],
   "source": [
    "df.head()"
   ]
  },
  {
   "cell_type": "code",
   "execution_count": 18,
   "metadata": {},
   "outputs": [
    {
     "data": {
      "text/plain": [
       "Index(['Zipcode', 'Population', 'Median Age', 'Household Income',\n",
       "       'median_home_value', 'Per Capita Income', 'Masters holders',\n",
       "       'Bachelor holders', 'Median gross rent', 'Poverty Count',\n",
       "       'Poverty Rate', 'Unemployment', 'Unemployment rate', 'pop_arc/eng',\n",
       "       'pop_stem', 'pop_tech', 'pop_biz', 'commute time car', 'house_age',\n",
       "       'Land-Sq-Mi', 'zip_code', 'latitude', 'longitude', 'city', 'state',\n",
       "       'county'],\n",
       "      dtype='object')"
      ]
     },
     "execution_count": 18,
     "metadata": {},
     "output_type": "execute_result"
    }
   ],
   "source": [
    "df.columns"
   ]
  },
  {
   "cell_type": "code",
   "execution_count": 19,
   "metadata": {},
   "outputs": [
    {
     "data": {
      "text/plain": [
       "Zipcode              32734\n",
       "Population           32734\n",
       "Median Age           32734\n",
       "Household Income     32734\n",
       "median_home_value    32734\n",
       "Per Capita Income    32452\n",
       "Masters holders      32734\n",
       "Bachelor holders     32734\n",
       "Median gross rent    32734\n",
       "Poverty Count        32734\n",
       "Poverty Rate         32416\n",
       "Unemployment         32734\n",
       "Unemployment rate    32416\n",
       "pop_arc/eng          32734\n",
       "pop_stem             32734\n",
       "pop_tech             32734\n",
       "pop_biz              32734\n",
       "commute time car     10056\n",
       "house_age            32734\n",
       "Land-Sq-Mi           32734\n",
       "zip_code             32734\n",
       "latitude             32644\n",
       "longitude            32644\n",
       "city                 32734\n",
       "state                32734\n",
       "county               32734\n",
       "dtype: int64"
      ]
     },
     "execution_count": 19,
     "metadata": {},
     "output_type": "execute_result"
    }
   ],
   "source": [
    "df.count()"
   ]
  },
  {
   "cell_type": "code",
   "execution_count": 20,
   "metadata": {},
   "outputs": [],
   "source": [
    "df = df[~(df == -666666666.0).any(axis=1)]"
   ]
  },
  {
   "cell_type": "code",
   "execution_count": 21,
   "metadata": {},
   "outputs": [
    {
     "data": {
      "text/html": [
       "<div>\n",
       "<style scoped>\n",
       "    .dataframe tbody tr th:only-of-type {\n",
       "        vertical-align: middle;\n",
       "    }\n",
       "\n",
       "    .dataframe tbody tr th {\n",
       "        vertical-align: top;\n",
       "    }\n",
       "\n",
       "    .dataframe thead th {\n",
       "        text-align: right;\n",
       "    }\n",
       "</style>\n",
       "<table border=\"1\" class=\"dataframe\">\n",
       "  <thead>\n",
       "    <tr style=\"text-align: right;\">\n",
       "      <th></th>\n",
       "      <th>Zipcode</th>\n",
       "      <th>Population</th>\n",
       "      <th>Median Age</th>\n",
       "      <th>Household Income</th>\n",
       "      <th>median_home_value</th>\n",
       "      <th>Per Capita Income</th>\n",
       "      <th>Masters holders</th>\n",
       "      <th>Bachelor holders</th>\n",
       "      <th>Median gross rent</th>\n",
       "      <th>Poverty Count</th>\n",
       "      <th>...</th>\n",
       "      <th>pop_biz</th>\n",
       "      <th>commute time car</th>\n",
       "      <th>house_age</th>\n",
       "      <th>Land-Sq-Mi</th>\n",
       "      <th>zip_code</th>\n",
       "      <th>latitude</th>\n",
       "      <th>longitude</th>\n",
       "      <th>city</th>\n",
       "      <th>state</th>\n",
       "      <th>county</th>\n",
       "    </tr>\n",
       "  </thead>\n",
       "  <tbody>\n",
       "    <tr>\n",
       "      <th>0</th>\n",
       "      <td>1001</td>\n",
       "      <td>17423.0</td>\n",
       "      <td>45.0</td>\n",
       "      <td>56714.0</td>\n",
       "      <td>202800.0</td>\n",
       "      <td>30430.0</td>\n",
       "      <td>1353.0</td>\n",
       "      <td>2016.0</td>\n",
       "      <td>975.0</td>\n",
       "      <td>1462.0</td>\n",
       "      <td>...</td>\n",
       "      <td>461</td>\n",
       "      <td>NaN</td>\n",
       "      <td>49</td>\n",
       "      <td>11.442</td>\n",
       "      <td>1001</td>\n",
       "      <td>42.140549</td>\n",
       "      <td>-72.788661</td>\n",
       "      <td>Agawam</td>\n",
       "      <td>MA</td>\n",
       "      <td>Hampden</td>\n",
       "    </tr>\n",
       "    <tr>\n",
       "      <th>1</th>\n",
       "      <td>1002</td>\n",
       "      <td>29970.0</td>\n",
       "      <td>23.2</td>\n",
       "      <td>48923.0</td>\n",
       "      <td>344000.0</td>\n",
       "      <td>26072.0</td>\n",
       "      <td>2956.0</td>\n",
       "      <td>3161.0</td>\n",
       "      <td>1206.0</td>\n",
       "      <td>8351.0</td>\n",
       "      <td>...</td>\n",
       "      <td>480</td>\n",
       "      <td>188755.0</td>\n",
       "      <td>47</td>\n",
       "      <td>55.043</td>\n",
       "      <td>1002</td>\n",
       "      <td>42.367092</td>\n",
       "      <td>-72.464571</td>\n",
       "      <td>Amherst</td>\n",
       "      <td>MA</td>\n",
       "      <td>Hampshire</td>\n",
       "    </tr>\n",
       "    <tr>\n",
       "      <th>3</th>\n",
       "      <td>1005</td>\n",
       "      <td>5228.0</td>\n",
       "      <td>44.1</td>\n",
       "      <td>70568.0</td>\n",
       "      <td>213700.0</td>\n",
       "      <td>32169.0</td>\n",
       "      <td>327.0</td>\n",
       "      <td>505.0</td>\n",
       "      <td>926.0</td>\n",
       "      <td>230.0</td>\n",
       "      <td>...</td>\n",
       "      <td>89</td>\n",
       "      <td>NaN</td>\n",
       "      <td>47</td>\n",
       "      <td>44.242</td>\n",
       "      <td>1005</td>\n",
       "      <td>42.329160</td>\n",
       "      <td>-72.139465</td>\n",
       "      <td>Barre</td>\n",
       "      <td>MA</td>\n",
       "      <td>Worcester</td>\n",
       "    </tr>\n",
       "    <tr>\n",
       "      <th>4</th>\n",
       "      <td>1007</td>\n",
       "      <td>14888.0</td>\n",
       "      <td>42.5</td>\n",
       "      <td>80502.0</td>\n",
       "      <td>258000.0</td>\n",
       "      <td>36359.0</td>\n",
       "      <td>1455.0</td>\n",
       "      <td>2185.0</td>\n",
       "      <td>921.0</td>\n",
       "      <td>1410.0</td>\n",
       "      <td>...</td>\n",
       "      <td>441</td>\n",
       "      <td>NaN</td>\n",
       "      <td>36</td>\n",
       "      <td>52.643</td>\n",
       "      <td>1007</td>\n",
       "      <td>42.280267</td>\n",
       "      <td>-72.402056</td>\n",
       "      <td>Belchertown</td>\n",
       "      <td>MA</td>\n",
       "      <td>Hampshire</td>\n",
       "    </tr>\n",
       "    <tr>\n",
       "      <th>5</th>\n",
       "      <td>1008</td>\n",
       "      <td>1194.0</td>\n",
       "      <td>48.5</td>\n",
       "      <td>67250.0</td>\n",
       "      <td>235000.0</td>\n",
       "      <td>34505.0</td>\n",
       "      <td>97.0</td>\n",
       "      <td>164.0</td>\n",
       "      <td>831.0</td>\n",
       "      <td>49.0</td>\n",
       "      <td>...</td>\n",
       "      <td>14</td>\n",
       "      <td>NaN</td>\n",
       "      <td>55</td>\n",
       "      <td>53.796</td>\n",
       "      <td>1008</td>\n",
       "      <td>42.177833</td>\n",
       "      <td>-72.958359</td>\n",
       "      <td>Blandford</td>\n",
       "      <td>MA</td>\n",
       "      <td>Hampden</td>\n",
       "    </tr>\n",
       "  </tbody>\n",
       "</table>\n",
       "<p>5 rows × 26 columns</p>\n",
       "</div>"
      ],
      "text/plain": [
       "   Zipcode  Population  Median Age  Household Income  median_home_value  \\\n",
       "0     1001     17423.0        45.0           56714.0           202800.0   \n",
       "1     1002     29970.0        23.2           48923.0           344000.0   \n",
       "3     1005      5228.0        44.1           70568.0           213700.0   \n",
       "4     1007     14888.0        42.5           80502.0           258000.0   \n",
       "5     1008      1194.0        48.5           67250.0           235000.0   \n",
       "\n",
       "   Per Capita Income  Masters holders  Bachelor holders  Median gross rent  \\\n",
       "0            30430.0           1353.0            2016.0              975.0   \n",
       "1            26072.0           2956.0            3161.0             1206.0   \n",
       "3            32169.0            327.0             505.0              926.0   \n",
       "4            36359.0           1455.0            2185.0              921.0   \n",
       "5            34505.0             97.0             164.0              831.0   \n",
       "\n",
       "   Poverty Count    ...      pop_biz  commute time car  house_age  Land-Sq-Mi  \\\n",
       "0         1462.0    ...          461               NaN         49      11.442   \n",
       "1         8351.0    ...          480          188755.0         47      55.043   \n",
       "3          230.0    ...           89               NaN         47      44.242   \n",
       "4         1410.0    ...          441               NaN         36      52.643   \n",
       "5           49.0    ...           14               NaN         55      53.796   \n",
       "\n",
       "   zip_code   latitude  longitude         city  state     county  \n",
       "0      1001  42.140549 -72.788661       Agawam     MA    Hampden  \n",
       "1      1002  42.367092 -72.464571      Amherst     MA  Hampshire  \n",
       "3      1005  42.329160 -72.139465        Barre     MA  Worcester  \n",
       "4      1007  42.280267 -72.402056  Belchertown     MA  Hampshire  \n",
       "5      1008  42.177833 -72.958359    Blandford     MA    Hampden  \n",
       "\n",
       "[5 rows x 26 columns]"
      ]
     },
     "execution_count": 21,
     "metadata": {},
     "output_type": "execute_result"
    }
   ],
   "source": [
    "df.head()"
   ]
  },
  {
   "cell_type": "code",
   "execution_count": 22,
   "metadata": {},
   "outputs": [
    {
     "data": {
      "text/plain": [
       "Zipcode              26519\n",
       "Population           26519\n",
       "Median Age           26519\n",
       "Household Income     26519\n",
       "median_home_value    26519\n",
       "Per Capita Income    26519\n",
       "Masters holders      26519\n",
       "Bachelor holders     26519\n",
       "Median gross rent    26519\n",
       "Poverty Count        26519\n",
       "Poverty Rate         26519\n",
       "Unemployment         26519\n",
       "Unemployment rate    26519\n",
       "pop_arc/eng          26519\n",
       "pop_stem             26519\n",
       "pop_tech             26519\n",
       "pop_biz              26519\n",
       "commute time car      7982\n",
       "house_age            26519\n",
       "Land-Sq-Mi           26519\n",
       "zip_code             26519\n",
       "latitude             26429\n",
       "longitude            26429\n",
       "city                 26519\n",
       "state                26519\n",
       "county               26519\n",
       "dtype: int64"
      ]
     },
     "execution_count": 22,
     "metadata": {},
     "output_type": "execute_result"
    }
   ],
   "source": [
    "df.count()"
   ]
  },
  {
   "cell_type": "code",
   "execution_count": 23,
   "metadata": {},
   "outputs": [],
   "source": [
    "# Add a new column to df_new\n",
    "df[\"Population Density\"] = df[\"Population\"]/df[\"Land-Sq-Mi\"]"
   ]
  },
  {
   "cell_type": "code",
   "execution_count": 24,
   "metadata": {
    "scrolled": true
   },
   "outputs": [
    {
     "data": {
      "text/html": [
       "<div>\n",
       "<style scoped>\n",
       "    .dataframe tbody tr th:only-of-type {\n",
       "        vertical-align: middle;\n",
       "    }\n",
       "\n",
       "    .dataframe tbody tr th {\n",
       "        vertical-align: top;\n",
       "    }\n",
       "\n",
       "    .dataframe thead th {\n",
       "        text-align: right;\n",
       "    }\n",
       "</style>\n",
       "<table border=\"1\" class=\"dataframe\">\n",
       "  <thead>\n",
       "    <tr style=\"text-align: right;\">\n",
       "      <th></th>\n",
       "      <th>Zipcode</th>\n",
       "      <th>Population</th>\n",
       "      <th>Median Age</th>\n",
       "      <th>Household Income</th>\n",
       "      <th>median_home_value</th>\n",
       "      <th>Per Capita Income</th>\n",
       "      <th>Masters holders</th>\n",
       "      <th>Bachelor holders</th>\n",
       "      <th>Median gross rent</th>\n",
       "      <th>Poverty Count</th>\n",
       "      <th>...</th>\n",
       "      <th>commute time car</th>\n",
       "      <th>house_age</th>\n",
       "      <th>Land-Sq-Mi</th>\n",
       "      <th>zip_code</th>\n",
       "      <th>latitude</th>\n",
       "      <th>longitude</th>\n",
       "      <th>city</th>\n",
       "      <th>state</th>\n",
       "      <th>county</th>\n",
       "      <th>Population Density</th>\n",
       "    </tr>\n",
       "  </thead>\n",
       "  <tbody>\n",
       "    <tr>\n",
       "      <th>0</th>\n",
       "      <td>1001</td>\n",
       "      <td>17423.0</td>\n",
       "      <td>45.0</td>\n",
       "      <td>56714.0</td>\n",
       "      <td>202800.0</td>\n",
       "      <td>30430.0</td>\n",
       "      <td>1353.0</td>\n",
       "      <td>2016.0</td>\n",
       "      <td>975.0</td>\n",
       "      <td>1462.0</td>\n",
       "      <td>...</td>\n",
       "      <td>NaN</td>\n",
       "      <td>49</td>\n",
       "      <td>11.442</td>\n",
       "      <td>1001</td>\n",
       "      <td>42.140549</td>\n",
       "      <td>-72.788661</td>\n",
       "      <td>Agawam</td>\n",
       "      <td>MA</td>\n",
       "      <td>Hampden</td>\n",
       "      <td>1522.723300</td>\n",
       "    </tr>\n",
       "    <tr>\n",
       "      <th>1</th>\n",
       "      <td>1002</td>\n",
       "      <td>29970.0</td>\n",
       "      <td>23.2</td>\n",
       "      <td>48923.0</td>\n",
       "      <td>344000.0</td>\n",
       "      <td>26072.0</td>\n",
       "      <td>2956.0</td>\n",
       "      <td>3161.0</td>\n",
       "      <td>1206.0</td>\n",
       "      <td>8351.0</td>\n",
       "      <td>...</td>\n",
       "      <td>188755.0</td>\n",
       "      <td>47</td>\n",
       "      <td>55.043</td>\n",
       "      <td>1002</td>\n",
       "      <td>42.367092</td>\n",
       "      <td>-72.464571</td>\n",
       "      <td>Amherst</td>\n",
       "      <td>MA</td>\n",
       "      <td>Hampshire</td>\n",
       "      <td>544.483404</td>\n",
       "    </tr>\n",
       "    <tr>\n",
       "      <th>3</th>\n",
       "      <td>1005</td>\n",
       "      <td>5228.0</td>\n",
       "      <td>44.1</td>\n",
       "      <td>70568.0</td>\n",
       "      <td>213700.0</td>\n",
       "      <td>32169.0</td>\n",
       "      <td>327.0</td>\n",
       "      <td>505.0</td>\n",
       "      <td>926.0</td>\n",
       "      <td>230.0</td>\n",
       "      <td>...</td>\n",
       "      <td>NaN</td>\n",
       "      <td>47</td>\n",
       "      <td>44.242</td>\n",
       "      <td>1005</td>\n",
       "      <td>42.329160</td>\n",
       "      <td>-72.139465</td>\n",
       "      <td>Barre</td>\n",
       "      <td>MA</td>\n",
       "      <td>Worcester</td>\n",
       "      <td>118.168256</td>\n",
       "    </tr>\n",
       "    <tr>\n",
       "      <th>4</th>\n",
       "      <td>1007</td>\n",
       "      <td>14888.0</td>\n",
       "      <td>42.5</td>\n",
       "      <td>80502.0</td>\n",
       "      <td>258000.0</td>\n",
       "      <td>36359.0</td>\n",
       "      <td>1455.0</td>\n",
       "      <td>2185.0</td>\n",
       "      <td>921.0</td>\n",
       "      <td>1410.0</td>\n",
       "      <td>...</td>\n",
       "      <td>NaN</td>\n",
       "      <td>36</td>\n",
       "      <td>52.643</td>\n",
       "      <td>1007</td>\n",
       "      <td>42.280267</td>\n",
       "      <td>-72.402056</td>\n",
       "      <td>Belchertown</td>\n",
       "      <td>MA</td>\n",
       "      <td>Hampshire</td>\n",
       "      <td>282.810630</td>\n",
       "    </tr>\n",
       "    <tr>\n",
       "      <th>5</th>\n",
       "      <td>1008</td>\n",
       "      <td>1194.0</td>\n",
       "      <td>48.5</td>\n",
       "      <td>67250.0</td>\n",
       "      <td>235000.0</td>\n",
       "      <td>34505.0</td>\n",
       "      <td>97.0</td>\n",
       "      <td>164.0</td>\n",
       "      <td>831.0</td>\n",
       "      <td>49.0</td>\n",
       "      <td>...</td>\n",
       "      <td>NaN</td>\n",
       "      <td>55</td>\n",
       "      <td>53.796</td>\n",
       "      <td>1008</td>\n",
       "      <td>42.177833</td>\n",
       "      <td>-72.958359</td>\n",
       "      <td>Blandford</td>\n",
       "      <td>MA</td>\n",
       "      <td>Hampden</td>\n",
       "      <td>22.194959</td>\n",
       "    </tr>\n",
       "  </tbody>\n",
       "</table>\n",
       "<p>5 rows × 27 columns</p>\n",
       "</div>"
      ],
      "text/plain": [
       "   Zipcode  Population  Median Age  Household Income  median_home_value  \\\n",
       "0     1001     17423.0        45.0           56714.0           202800.0   \n",
       "1     1002     29970.0        23.2           48923.0           344000.0   \n",
       "3     1005      5228.0        44.1           70568.0           213700.0   \n",
       "4     1007     14888.0        42.5           80502.0           258000.0   \n",
       "5     1008      1194.0        48.5           67250.0           235000.0   \n",
       "\n",
       "   Per Capita Income  Masters holders  Bachelor holders  Median gross rent  \\\n",
       "0            30430.0           1353.0            2016.0              975.0   \n",
       "1            26072.0           2956.0            3161.0             1206.0   \n",
       "3            32169.0            327.0             505.0              926.0   \n",
       "4            36359.0           1455.0            2185.0              921.0   \n",
       "5            34505.0             97.0             164.0              831.0   \n",
       "\n",
       "   Poverty Count         ...          commute time car  house_age  Land-Sq-Mi  \\\n",
       "0         1462.0         ...                       NaN         49      11.442   \n",
       "1         8351.0         ...                  188755.0         47      55.043   \n",
       "3          230.0         ...                       NaN         47      44.242   \n",
       "4         1410.0         ...                       NaN         36      52.643   \n",
       "5           49.0         ...                       NaN         55      53.796   \n",
       "\n",
       "   zip_code   latitude  longitude         city  state     county  \\\n",
       "0      1001  42.140549 -72.788661       Agawam     MA    Hampden   \n",
       "1      1002  42.367092 -72.464571      Amherst     MA  Hampshire   \n",
       "3      1005  42.329160 -72.139465        Barre     MA  Worcester   \n",
       "4      1007  42.280267 -72.402056  Belchertown     MA  Hampshire   \n",
       "5      1008  42.177833 -72.958359    Blandford     MA    Hampden   \n",
       "\n",
       "   Population Density  \n",
       "0         1522.723300  \n",
       "1          544.483404  \n",
       "3          118.168256  \n",
       "4          282.810630  \n",
       "5           22.194959  \n",
       "\n",
       "[5 rows x 27 columns]"
      ]
     },
     "execution_count": 24,
     "metadata": {},
     "output_type": "execute_result"
    }
   ],
   "source": [
    "df.head()"
   ]
  },
  {
   "cell_type": "code",
   "execution_count": 25,
   "metadata": {},
   "outputs": [],
   "source": [
    "df = df.drop(['Zipcode', 'zip_code','latitude', 'longitude', 'city', 'state', 'county'], axis=1)"
   ]
  },
  {
   "cell_type": "code",
   "execution_count": 26,
   "metadata": {},
   "outputs": [
    {
     "data": {
      "text/html": [
       "<div>\n",
       "<style scoped>\n",
       "    .dataframe tbody tr th:only-of-type {\n",
       "        vertical-align: middle;\n",
       "    }\n",
       "\n",
       "    .dataframe tbody tr th {\n",
       "        vertical-align: top;\n",
       "    }\n",
       "\n",
       "    .dataframe thead th {\n",
       "        text-align: right;\n",
       "    }\n",
       "</style>\n",
       "<table border=\"1\" class=\"dataframe\">\n",
       "  <thead>\n",
       "    <tr style=\"text-align: right;\">\n",
       "      <th></th>\n",
       "      <th>Population</th>\n",
       "      <th>Median Age</th>\n",
       "      <th>Household Income</th>\n",
       "      <th>median_home_value</th>\n",
       "      <th>Per Capita Income</th>\n",
       "      <th>Masters holders</th>\n",
       "      <th>Bachelor holders</th>\n",
       "      <th>Median gross rent</th>\n",
       "      <th>Poverty Count</th>\n",
       "      <th>Poverty Rate</th>\n",
       "      <th>Unemployment</th>\n",
       "      <th>Unemployment rate</th>\n",
       "      <th>pop_arc/eng</th>\n",
       "      <th>pop_stem</th>\n",
       "      <th>pop_tech</th>\n",
       "      <th>pop_biz</th>\n",
       "      <th>commute time car</th>\n",
       "      <th>house_age</th>\n",
       "      <th>Land-Sq-Mi</th>\n",
       "      <th>Population Density</th>\n",
       "    </tr>\n",
       "  </thead>\n",
       "  <tbody>\n",
       "    <tr>\n",
       "      <th>0</th>\n",
       "      <td>17423.0</td>\n",
       "      <td>45.0</td>\n",
       "      <td>56714.0</td>\n",
       "      <td>202800.0</td>\n",
       "      <td>30430.0</td>\n",
       "      <td>1353.0</td>\n",
       "      <td>2016.0</td>\n",
       "      <td>975.0</td>\n",
       "      <td>1462.0</td>\n",
       "      <td>8.391207</td>\n",
       "      <td>479.0</td>\n",
       "      <td>2.749240</td>\n",
       "      <td>149</td>\n",
       "      <td>411</td>\n",
       "      <td>240</td>\n",
       "      <td>461</td>\n",
       "      <td>NaN</td>\n",
       "      <td>49</td>\n",
       "      <td>11.442</td>\n",
       "      <td>1522.723300</td>\n",
       "    </tr>\n",
       "    <tr>\n",
       "      <th>1</th>\n",
       "      <td>29970.0</td>\n",
       "      <td>23.2</td>\n",
       "      <td>48923.0</td>\n",
       "      <td>344000.0</td>\n",
       "      <td>26072.0</td>\n",
       "      <td>2956.0</td>\n",
       "      <td>3161.0</td>\n",
       "      <td>1206.0</td>\n",
       "      <td>8351.0</td>\n",
       "      <td>27.864531</td>\n",
       "      <td>1271.0</td>\n",
       "      <td>4.240908</td>\n",
       "      <td>219</td>\n",
       "      <td>984</td>\n",
       "      <td>309</td>\n",
       "      <td>480</td>\n",
       "      <td>188755.0</td>\n",
       "      <td>47</td>\n",
       "      <td>55.043</td>\n",
       "      <td>544.483404</td>\n",
       "    </tr>\n",
       "    <tr>\n",
       "      <th>3</th>\n",
       "      <td>5228.0</td>\n",
       "      <td>44.1</td>\n",
       "      <td>70568.0</td>\n",
       "      <td>213700.0</td>\n",
       "      <td>32169.0</td>\n",
       "      <td>327.0</td>\n",
       "      <td>505.0</td>\n",
       "      <td>926.0</td>\n",
       "      <td>230.0</td>\n",
       "      <td>4.399388</td>\n",
       "      <td>153.0</td>\n",
       "      <td>2.926549</td>\n",
       "      <td>104</td>\n",
       "      <td>139</td>\n",
       "      <td>19</td>\n",
       "      <td>89</td>\n",
       "      <td>NaN</td>\n",
       "      <td>47</td>\n",
       "      <td>44.242</td>\n",
       "      <td>118.168256</td>\n",
       "    </tr>\n",
       "    <tr>\n",
       "      <th>4</th>\n",
       "      <td>14888.0</td>\n",
       "      <td>42.5</td>\n",
       "      <td>80502.0</td>\n",
       "      <td>258000.0</td>\n",
       "      <td>36359.0</td>\n",
       "      <td>1455.0</td>\n",
       "      <td>2185.0</td>\n",
       "      <td>921.0</td>\n",
       "      <td>1410.0</td>\n",
       "      <td>9.470715</td>\n",
       "      <td>543.0</td>\n",
       "      <td>3.647233</td>\n",
       "      <td>147</td>\n",
       "      <td>402</td>\n",
       "      <td>184</td>\n",
       "      <td>441</td>\n",
       "      <td>NaN</td>\n",
       "      <td>36</td>\n",
       "      <td>52.643</td>\n",
       "      <td>282.810630</td>\n",
       "    </tr>\n",
       "    <tr>\n",
       "      <th>5</th>\n",
       "      <td>1194.0</td>\n",
       "      <td>48.5</td>\n",
       "      <td>67250.0</td>\n",
       "      <td>235000.0</td>\n",
       "      <td>34505.0</td>\n",
       "      <td>97.0</td>\n",
       "      <td>164.0</td>\n",
       "      <td>831.0</td>\n",
       "      <td>49.0</td>\n",
       "      <td>4.103853</td>\n",
       "      <td>63.0</td>\n",
       "      <td>5.276382</td>\n",
       "      <td>30</td>\n",
       "      <td>54</td>\n",
       "      <td>20</td>\n",
       "      <td>14</td>\n",
       "      <td>NaN</td>\n",
       "      <td>55</td>\n",
       "      <td>53.796</td>\n",
       "      <td>22.194959</td>\n",
       "    </tr>\n",
       "  </tbody>\n",
       "</table>\n",
       "</div>"
      ],
      "text/plain": [
       "   Population  Median Age  Household Income  median_home_value  \\\n",
       "0     17423.0        45.0           56714.0           202800.0   \n",
       "1     29970.0        23.2           48923.0           344000.0   \n",
       "3      5228.0        44.1           70568.0           213700.0   \n",
       "4     14888.0        42.5           80502.0           258000.0   \n",
       "5      1194.0        48.5           67250.0           235000.0   \n",
       "\n",
       "   Per Capita Income  Masters holders  Bachelor holders  Median gross rent  \\\n",
       "0            30430.0           1353.0            2016.0              975.0   \n",
       "1            26072.0           2956.0            3161.0             1206.0   \n",
       "3            32169.0            327.0             505.0              926.0   \n",
       "4            36359.0           1455.0            2185.0              921.0   \n",
       "5            34505.0             97.0             164.0              831.0   \n",
       "\n",
       "   Poverty Count  Poverty Rate  Unemployment  Unemployment rate  pop_arc/eng  \\\n",
       "0         1462.0      8.391207         479.0           2.749240          149   \n",
       "1         8351.0     27.864531        1271.0           4.240908          219   \n",
       "3          230.0      4.399388         153.0           2.926549          104   \n",
       "4         1410.0      9.470715         543.0           3.647233          147   \n",
       "5           49.0      4.103853          63.0           5.276382           30   \n",
       "\n",
       "   pop_stem  pop_tech  pop_biz  commute time car  house_age  Land-Sq-Mi  \\\n",
       "0       411       240      461               NaN         49      11.442   \n",
       "1       984       309      480          188755.0         47      55.043   \n",
       "3       139        19       89               NaN         47      44.242   \n",
       "4       402       184      441               NaN         36      52.643   \n",
       "5        54        20       14               NaN         55      53.796   \n",
       "\n",
       "   Population Density  \n",
       "0         1522.723300  \n",
       "1          544.483404  \n",
       "3          118.168256  \n",
       "4          282.810630  \n",
       "5           22.194959  "
      ]
     },
     "execution_count": 26,
     "metadata": {},
     "output_type": "execute_result"
    }
   ],
   "source": [
    "df.head()"
   ]
  },
  {
   "cell_type": "code",
   "execution_count": 27,
   "metadata": {},
   "outputs": [],
   "source": [
    "# df_test = df.drop(\"median_home_value\", axis=1)\n",
    "df_test = df"
   ]
  },
  {
   "cell_type": "code",
   "execution_count": 28,
   "metadata": {},
   "outputs": [],
   "source": [
    " df_test_col_removed = df.drop([\"Poverty Count\", 'pop_tech', \"commute time car\", 'Bachelor holders', 'pop_biz','pop_stem', 'Land-Sq-Mi' ], axis=1)"
   ]
  },
  {
   "cell_type": "code",
   "execution_count": 29,
   "metadata": {},
   "outputs": [
    {
     "data": {
      "text/plain": [
       "Index(['Population', 'Median Age', 'Household Income', 'median_home_value',\n",
       "       'Per Capita Income', 'Masters holders', 'Median gross rent',\n",
       "       'Poverty Rate', 'Unemployment', 'Unemployment rate', 'pop_arc/eng',\n",
       "       'house_age', 'Population Density'],\n",
       "      dtype='object')"
      ]
     },
     "execution_count": 29,
     "metadata": {},
     "output_type": "execute_result"
    }
   ],
   "source": [
    "df_test_col_removed.columns"
   ]
  },
  {
   "cell_type": "code",
   "execution_count": 30,
   "metadata": {},
   "outputs": [
    {
     "data": {
      "text/plain": [
       "Index(['Population', 'Median Age', 'Household Income', 'median_home_value',\n",
       "       'Per Capita Income', 'Masters holders', 'Bachelor holders',\n",
       "       'Median gross rent', 'Poverty Count', 'Poverty Rate', 'Unemployment',\n",
       "       'Unemployment rate', 'pop_arc/eng', 'pop_stem', 'pop_tech', 'pop_biz',\n",
       "       'commute time car', 'house_age', 'Land-Sq-Mi', 'Population Density'],\n",
       "      dtype='object')"
      ]
     },
     "execution_count": 30,
     "metadata": {},
     "output_type": "execute_result"
    }
   ],
   "source": [
    "df_test.columns"
   ]
  },
  {
   "cell_type": "code",
   "execution_count": null,
   "metadata": {},
   "outputs": [],
   "source": []
  },
  {
   "cell_type": "code",
   "execution_count": 31,
   "metadata": {},
   "outputs": [
    {
     "data": {
      "image/png": "[encoded data removed]",
      "text/plain": [
       "<Figure size 864x864 with 2 Axes>"
      ]
     },
     "metadata": {},
     "output_type": "display_data"
    }
   ],
   "source": [
    "# Correction Matrix Plot\n",
    "import matplotlib.pyplot as plt\n",
    "import pandas\n",
    "import numpy\n",
    "\n",
    "# data = pandas.read_csv(url, names=names)\n",
    "# df_test = df_new.drop(\"median_home_value\", axis=1)\n",
    "correlations = df_test.corr()\n",
    "# plot correlation matrix\n",
    "fig = plt.figure(figsize = (12,12))\n",
    "ax = fig.add_subplot(111)\n",
    "cax = ax.matshow(correlations, vmin=-1, vmax=1)\n",
    "fig.colorbar(cax)\n",
    "ticks = numpy.arange(0,20,1)\n",
    "ax.set_xticks(ticks)\n",
    "ax.set_yticks(ticks)\n",
    "# names = ['Population', 'Median Age', 'Household Income', 'Per Capita Income',\n",
    "#        'Masters holders', 'Median gross rent', 'Poverty Rate', 'Unemployment',\n",
    "#        'Unemployment rate', 'pop_arc/eng', 'pop_tech', 'house_age',\n",
    "#        'Land-Sq-Mi', 'Population Density']\n",
    "\n",
    "\n",
    "names = ['Population', 'Median Age', 'Household Income', 'median_home_value',\n",
    "       'Per Capita Income', 'Masters holders', 'Bachelor holders',\n",
    "       'Median gross rent', 'Poverty Count', 'Poverty Rate', 'Unemployment',\n",
    "       'Unemployment rate', 'pop_arc/eng', 'pop_stem', 'pop_tech', 'pop_biz',\n",
    "       'commute time car', 'house_age', 'Land-Sq-Mi', 'Population Density']\n",
    "# ax.set_xticklabels(names)\n",
    "ax.set_yticklabels(names)\n",
    "plt.show()"
   ]
  },
  {
   "cell_type": "code",
   "execution_count": 32,
   "metadata": {},
   "outputs": [
    {
     "data": {
      "image/png": "[encoded data removed]",
      "text/plain": [
       "<Figure size 864x864 with 2 Axes>"
      ]
     },
     "metadata": {},
     "output_type": "display_data"
    }
   ],
   "source": [
    "# Correction Matrix Plot\n",
    "import matplotlib.pyplot as plt\n",
    "import pandas\n",
    "import numpy\n",
    "\n",
    "# data = pandas.read_csv(url, names=names)\n",
    "# df_test = df_new.drop(\"median_home_value\", axis=1)\n",
    "correlations = df_test_col_removed.corr()\n",
    "# plot correlation matrix\n",
    "fig = plt.figure(figsize = (12,12))\n",
    "ax = fig.add_subplot(111)\n",
    "cax = ax.matshow(correlations, vmin=-1, vmax=1)\n",
    "fig.colorbar(cax)\n",
    "ticks = numpy.arange(0,13,1)\n",
    "ax.set_xticks(ticks)\n",
    "ax.set_yticks(ticks)\n",
    "# names = ['Population', 'Median Age', 'Household Income', 'Per Capita Income',\n",
    "#        'Masters holders', 'Median gross rent', 'Poverty Rate', 'Unemployment',\n",
    "#        'Unemployment rate', 'pop_arc/eng', 'pop_tech', 'house_age',\n",
    "#        'Land-Sq-Mi', 'Population Density']\n",
    "\n",
    "\n",
    "names = ['Population', 'Median Age', 'Household Income', 'median_home_value',\n",
    "       'Per Capita Income', 'Masters holders', 'Median gross rent',\n",
    "       'Poverty Rate', 'Unemployment', 'Unemployment rate', 'pop_arc/eng',\n",
    "       'house_age', 'Population Density']\n",
    "# ax.set_xticklabels(names)\n",
    "ax.set_yticklabels(names)\n",
    "plt.show()"
   ]
  },
  {
   "cell_type": "code",
   "execution_count": 33,
   "metadata": {},
   "outputs": [
    {
     "name": "stdout",
     "output_type": "stream",
     "text": [
      "(26519, 12) (26519, 1)\n"
     ]
    }
   ],
   "source": [
    "# Assign the data to X and y\n",
    "# Note: Sklearn requires a two-dimensional array of values\n",
    "# so we use reshape to create this\n",
    "X = df_test_col_removed.drop('median_home_value', axis=1)\n",
    "\n",
    "# X = df_test_col_removed\n",
    "# X = df_new[[\"Population\", \"Median Age\", \"Household Income\", \"Per Capita Income\", \"Poverty Rate\", \"Land-Sq-Mi\", \"Unemp Rate\", \"Population Density\"]]\n",
    "# X = df_new[[\"Household Income\", \"Population Density\", \"Poverty Rate\", \"Per Capita Income\", \"Median Age\", \"Unemp Rate\"]]\n",
    "# X = df_new[[\"Household Income\", \"Population Density\", \"Poverty Rate\", \"Median Age\", \"Unemp Rate\"]]\n",
    "# X = df_new[[\"Household Income\", \"Per Capita Income\", \"Poverty Rate\", \"Median Age\", \"Unemp Rate\"]]\n",
    "y = df_test_col_removed[\"median_home_value\"].values.reshape(-1, 1)\n",
    "print(X.shape, y.shape)"
   ]
  },
  {
   "cell_type": "code",
   "execution_count": null,
   "metadata": {},
   "outputs": [],
   "source": []
  },
  {
   "cell_type": "code",
   "execution_count": 34,
   "metadata": {},
   "outputs": [
    {
     "data": {
      "text/plain": [
       "Text(0,0.5,'House Value')"
      ]
     },
     "execution_count": 34,
     "metadata": {},
     "output_type": "execute_result"
    },
    {
     "data": {
      "image/png": "[encoded data removed]",
      "text/plain": [
       "<Figure size 432x288 with 1 Axes>"
      ]
     },
     "metadata": {},
     "output_type": "display_data"
    }
   ],
   "source": [
    "# Plot the data to see if a linear trend exists for Population\n",
    "# Can plot for each features\n",
    "plt.scatter(X[\"Population\"], y)\n",
    "plt.xlabel(\"Population\")\n",
    "plt.ylabel(\"House Value\")"
   ]
  },
  {
   "cell_type": "code",
   "execution_count": 35,
   "metadata": {},
   "outputs": [
    {
     "data": {
      "text/plain": [
       "Text(0,0.5,'House Value')"
      ]
     },
     "execution_count": 35,
     "metadata": {},
     "output_type": "execute_result"
    },
    {
     "data": {
      "image/png": "[encoded data removed]",
      "text/plain": [
       "<Figure size 432x288 with 1 Axes>"
      ]
     },
     "metadata": {},
     "output_type": "display_data"
    }
   ],
   "source": [
    "# Plot the data to see if a linear trend exists for Median Age\n",
    "# Can plot for each features\n",
    "plt.scatter(X[\"Median Age\"], y)\n",
    "plt.xlabel(\"Median Age\")\n",
    "plt.ylabel(\"House Value\")"
   ]
  },
  {
   "cell_type": "code",
   "execution_count": 36,
   "metadata": {},
   "outputs": [
    {
     "data": {
      "text/plain": [
       "Text(0,0.5,'House Value')"
      ]
     },
     "execution_count": 36,
     "metadata": {},
     "output_type": "execute_result"
    },
    {
     "data": {
      "image/png": "[encoded data removed]",
      "text/plain": [
       "<Figure size 432x288 with 1 Axes>"
      ]
     },
     "metadata": {},
     "output_type": "display_data"
    }
   ],
   "source": [
    "# Plot the data to see if a linear trend exists for Household Income\n",
    "# Can plot for each features\n",
    "plt.scatter(X[\"Household Income\"], y)\n",
    "plt.xlabel(\"Household Income\")\n",
    "plt.ylabel(\"House Value\")"
   ]
  },
  {
   "cell_type": "code",
   "execution_count": 37,
   "metadata": {},
   "outputs": [
    {
     "data": {
      "text/plain": [
       "Text(0,0.5,'House Value')"
      ]
     },
     "execution_count": 37,
     "metadata": {},
     "output_type": "execute_result"
    },
    {
     "data": {
      "image/png": "[encoded data removed]",
      "text/plain": [
       "<Figure size 432x288 with 1 Axes>"
      ]
     },
     "metadata": {},
     "output_type": "display_data"
    }
   ],
   "source": [
    "# Plot the data to see if a linear trend exists for Per Capita Income\n",
    "# Can plot for each features\n",
    "plt.scatter(X[\"Per Capita Income\"], y)\n",
    "plt.xlabel(\"Per Capita Income\")\n",
    "plt.ylabel(\"House Value\")"
   ]
  },
  {
   "cell_type": "code",
   "execution_count": 38,
   "metadata": {},
   "outputs": [
    {
     "data": {
      "text/plain": [
       "Text(0,0.5,'House Value')"
      ]
     },
     "execution_count": 38,
     "metadata": {},
     "output_type": "execute_result"
    },
    {
     "data": {
      "image/png": "[encoded data removed]",
      "text/plain": [
       "<Figure size 432x288 with 1 Axes>"
      ]
     },
     "metadata": {},
     "output_type": "display_data"
    }
   ],
   "source": [
    "# Plot the data to see if a linear trend exists for Poverty Rate\n",
    "# Can plot for each features\n",
    "plt.scatter(X[\"Poverty Rate\"], y)\n",
    "plt.xlabel(\"Poverty Rate\")\n",
    "plt.ylabel(\"House Value\")"
   ]
  },
  {
   "cell_type": "code",
   "execution_count": 39,
   "metadata": {},
   "outputs": [
    {
     "data": {
      "text/plain": [
       "Text(0,0.5,'House Value')"
      ]
     },
     "execution_count": 39,
     "metadata": {},
     "output_type": "execute_result"
    },
    {
     "data": {
      "image/png": "[encoded data removed]",
      "text/plain": [
       "<Figure size 432x288 with 1 Axes>"
      ]
     },
     "metadata": {},
     "output_type": "display_data"
    }
   ],
   "source": [
    "# Plot the data to see if a linear trend exists for Unemployment Rate\n",
    "# Can plot for each features\n",
    "plt.scatter(X[\"Unemployment rate\"], y)\n",
    "plt.xlabel(\"Unemployment rate\")\n",
    "plt.ylabel(\"House Value\")"
   ]
  },
  {
   "cell_type": "code",
   "execution_count": 40,
   "metadata": {
    "scrolled": true
   },
   "outputs": [
    {
     "data": {
      "text/plain": [
       "Text(0,0.5,'House Value')"
      ]
     },
     "execution_count": 40,
     "metadata": {},
     "output_type": "execute_result"
    },
    {
     "data": {
      "image/png": "[encoded data removed]",
      "text/plain": [
       "<Figure size 432x288 with 1 Axes>"
      ]
     },
     "metadata": {},
     "output_type": "display_data"
    }
   ],
   "source": [
    "# Plot the data to see if a linear trend exists for Population Density\n",
    "# Can plot for each features\n",
    "plt.scatter(X[\"Population Density\"], y)\n",
    "plt.xlabel(\"Population Density\")\n",
    "plt.ylabel(\"House Value\")"
   ]
  },
  {
   "cell_type": "code",
   "execution_count": 41,
   "metadata": {},
   "outputs": [],
   "source": [
    "# Use sklearn's `train_test_split` to split the data into training and testing\n",
    "from sklearn.model_selection import train_test_split\n",
    "X_train, X_test, y_train, y_test = train_test_split(X, y, random_state=42)"
   ]
  },
  {
   "cell_type": "code",
   "execution_count": 42,
   "metadata": {},
   "outputs": [],
   "source": [
    "# Scale data with SKLearn StandardScaler\n",
    "from sklearn.preprocessing import StandardScaler\n",
    "X_scaler = StandardScaler().fit(X_train)\n",
    "y_scaler = StandardScaler().fit(y_train)\n",
    "\n",
    "X_train_scaled = X_scaler.transform(X_train)\n",
    "X_test_scaled = X_scaler.transform(X_test)\n",
    "\n",
    "y_train_scaled = y_scaler.transform(y_train)\n",
    "y_test_scaled = y_scaler.transform(y_test)"
   ]
  },
  {
   "cell_type": "code",
   "execution_count": 43,
   "metadata": {},
   "outputs": [
    {
     "data": {
      "text/plain": [
       "array([-0.31078969,  0.11738345,  0.22866739,  0.34154584, -0.27276221,\n",
       "        0.58311992, -0.45964101, -0.22551918,  0.32921035, -0.37015243,\n",
       "       -0.01418429, -0.25559417])"
      ]
     },
     "execution_count": 43,
     "metadata": {},
     "output_type": "execute_result"
    }
   ],
   "source": [
    "X_test_scaled[0]"
   ]
  },
  {
   "cell_type": "markdown",
   "metadata": {},
   "source": [
    "### Linear regression Model"
   ]
  },
  {
   "cell_type": "code",
   "execution_count": 44,
   "metadata": {},
   "outputs": [],
   "source": [
    "## Create the model\n",
    "from sklearn.linear_model import LinearRegression\n",
    "model = LinearRegression()"
   ]
  },
  {
   "cell_type": "code",
   "execution_count": 45,
   "metadata": {},
   "outputs": [
    {
     "data": {
      "text/plain": [
       "LinearRegression(copy_X=True, fit_intercept=True, n_jobs=1, normalize=False)"
      ]
     },
     "execution_count": 45,
     "metadata": {},
     "output_type": "execute_result"
    }
   ],
   "source": [
    "# Fitting our model with training data\n",
    "model.fit(X_train_scaled, y_train_scaled)"
   ]
  },
  {
   "cell_type": "code",
   "execution_count": 46,
   "metadata": {},
   "outputs": [],
   "source": [
    "# Make prediction with test data\n",
    "predictions = model.predict(X_test_scaled)"
   ]
  },
  {
   "cell_type": "code",
   "execution_count": 47,
   "metadata": {},
   "outputs": [
    {
     "name": "stdout",
     "output_type": "stream",
     "text": [
      "MSE: 0.25869192994749923, R2: 0.7470362519779569\n"
     ]
    },
    {
     "data": {
      "text/plain": [
       "0.7470362519779569"
      ]
     },
     "execution_count": 47,
     "metadata": {},
     "output_type": "execute_result"
    }
   ],
   "source": [
    "# Evaluate the model by Calculate the following for the test data\n",
    "# 1. Calculate the mean_squared_error (mse)\n",
    "# 2. the r-squared value (r2)\n",
    "from sklearn.metrics import mean_squared_error, r2_score\n",
    "MSE = mean_squared_error(y_test_scaled, predictions)\n",
    "r2 = model.score(X_test_scaled, y_test_scaled)\n",
    "\n",
    "print(f\"MSE: {MSE}, R2: {r2}\")\n",
    "\n",
    "# Or by calling the `score` method on the model to show the r2 score\n",
    "model.score(X_test_scaled, y_test_scaled)"
   ]
  },
  {
   "cell_type": "code",
   "execution_count": 48,
   "metadata": {},
   "outputs": [
    {
     "data": {
      "image/png": "[encoded data removed]",
      "text/plain": [
       "<Figure size 432x288 with 1 Axes>"
      ]
     },
     "metadata": {},
     "output_type": "display_data"
    }
   ],
   "source": [
    "# Residual plot\n",
    "plt.scatter(model.predict(X_train_scaled), model.predict(X_train_scaled) - y_train_scaled, c=\"blue\", label=\"Training Data\")\n",
    "plt.scatter(model.predict(X_test_scaled), model.predict(X_test_scaled) - y_test_scaled, c=\"orange\", label=\"Testing Data\")\n",
    "plt.legend()\n",
    "plt.hlines(y=0, xmin=y_test_scaled.min(), xmax=y_test_scaled.max())\n",
    "plt.title(\"Residual Plot\")\n",
    "plt.show()"
   ]
  },
  {
   "cell_type": "code",
   "execution_count": 49,
   "metadata": {},
   "outputs": [
    {
     "data": {
      "text/plain": [
       "array([[250984.06303231]])"
      ]
     },
     "execution_count": 49,
     "metadata": {},
     "output_type": "execute_result"
    }
   ],
   "source": [
    "# Make a prediction\n",
    "# X_scaled_new = [[ 0.80809856,  1.35009033, -0.01890773,  0.34549878, -0.82941627, 0.2246137 ]]\n",
    "# X_scaled_new = [[ 3.48460584, -0.82941627,  0.80809856, 0.2345, 0.5678, -0.33548015, 0.2246137 ,  1.35009033]]\n",
    "# X_scaled_new = [[ 3.48460584, -0.82941627,  0.80809856,  0.34549878, -0.01890773, -0.33548015,  0.2246137 ,  1.35009033]]\n",
    "\n",
    "# X_scaled_new = [[-0.11078969,  0.51738345,  0.*2866739,  0.34154584, -0.27276221,\n",
    "#         0.98311992, -0.45964101,  0.82921035, -0.37015243, -0.01418429,\n",
    "#        -0.91011539, -0.95559417]]\n",
    "\n",
    "X_scaled_new = [[-0.31078969,  0.91738345,  0.82866739,  0.34154584, -0.27276221,\n",
    "        0.58311992, -0.45964101, -0.22551918,  0.32921035, -0.37015243,\n",
    "       -0.01418429, -0.25559417]]\n",
    "prediction_scaled = model.predict(X_scaled_new)\n",
    "prediction = y_scaler.inverse_transform(prediction_scaled)\n",
    "prediction"
   ]
  },
  {
   "cell_type": "code",
   "execution_count": 50,
   "metadata": {},
   "outputs": [
    {
     "name": "stdout",
     "output_type": "stream",
     "text": [
      "MSE: 0.26010303039399474, R2: 0.7456563973460264\n"
     ]
    }
   ],
   "source": [
    "## LASSO model\n",
    "# Note: Use an alpha of .01 when creating the model for this activity\n",
    "from sklearn.linear_model import Lasso\n",
    "\n",
    "### BEGIN SOLUTION\n",
    "lasso = Lasso(alpha=.01).fit(X_train_scaled, y_train_scaled)\n",
    "predictions = lasso.predict(X_test_scaled)\n",
    "\n",
    "MSE = mean_squared_error(y_test_scaled, predictions)\n",
    "r2 = lasso.score(X_test_scaled, y_test_scaled)\n",
    "\n",
    "print(f\"MSE: {MSE}, R2: {r2}\")"
   ]
  },
  {
   "cell_type": "code",
   "execution_count": 51,
   "metadata": {},
   "outputs": [
    {
     "name": "stdout",
     "output_type": "stream",
     "text": [
      "MSE: 0.25869195364894837, R2: 0.7470362288013258\n"
     ]
    }
   ],
   "source": [
    "## Ridge model\n",
    "# Note: Use an alpha of .01 when creating the model for this activity\n",
    "from sklearn.linear_model import Ridge\n",
    "\n",
    "### BEGIN SOLUTION\n",
    "ridge = Ridge(alpha=.01).fit(X_train_scaled, y_train_scaled)\n",
    "\n",
    "predictions = ridge.predict(X_test_scaled)\n",
    "\n",
    "MSE = mean_squared_error(y_test_scaled, predictions)\n",
    "r2 = ridge.score(X_test_scaled, y_test_scaled)\n",
    "### END SOLUTION\n",
    "\n",
    "print(f\"MSE: {MSE}, R2: {r2}\")"
   ]
  },
  {
   "cell_type": "code",
   "execution_count": 52,
   "metadata": {},
   "outputs": [
    {
     "name": "stdout",
     "output_type": "stream",
     "text": [
      "MSE: 0.2595141466534755, R2: 0.7462322415100915\n"
     ]
    }
   ],
   "source": [
    "## ElasticNet model\n",
    "# Use an alpha of .01 when creating the model for this activity\n",
    "from sklearn.linear_model import ElasticNet\n",
    "\n",
    "elasticnet = ElasticNet(alpha=.01).fit(X_train_scaled, y_train_scaled)\n",
    "\n",
    "predictions = elasticnet.predict(X_test_scaled)\n",
    "\n",
    "MSE = mean_squared_error(y_test_scaled, predictions)\n",
    "r2 = elasticnet.score(X_test_scaled, y_test_scaled)\n",
    "\n",
    "print(f\"MSE: {MSE}, R2: {r2}\")"
   ]
  },
  {
   "cell_type": "markdown",
   "metadata": {},
   "source": [
    "### Random Forest Regression Model"
   ]
  },
  {
   "cell_type": "code",
   "execution_count": 53,
   "metadata": {},
   "outputs": [
    {
     "name": "stderr",
     "output_type": "stream",
     "text": [
      "/anaconda3/envs/MyPython36/lib/python3.6/site-packages/ipykernel_launcher.py:4: DataConversionWarning: A column-vector y was passed when a 1d array was expected. Please change the shape of y to (n_samples,), for example using ravel().\n",
      "  after removing the cwd from sys.path.\n"
     ]
    },
    {
     "data": {
      "text/plain": [
       "0.9707861629177622"
      ]
     },
     "execution_count": 53,
     "metadata": {},
     "output_type": "execute_result"
    }
   ],
   "source": [
    "# Train a random forest regression model\n",
    "from sklearn.ensemble import RandomForestRegressor\n",
    "rf = RandomForestRegressor(n_estimators=300)\n",
    "rf = rf.fit(X_train_scaled, y_train_scaled)\n",
    "\n",
    "# save the model\n",
    "filename = 'cl_model.sav'\n",
    "pickle.dump(rf, open(filename, 'wb'))\n",
    "\n",
    "# R2 for training data\n",
    "rf.score(X_train_scaled, y_train_scaled)"
   ]
  },
  {
   "cell_type": "code",
   "execution_count": 54,
   "metadata": {},
   "outputs": [],
   "source": [
    "importances = rf.feature_importances_\n",
    "importances_list = sorted(zip(rf.feature_importances_, X.keys()), reverse=True)"
   ]
  },
  {
   "cell_type": "code",
   "execution_count": 55,
   "metadata": {},
   "outputs": [
    {
     "data": {
      "text/plain": [
       "[(0.5099272635935101, 'Median gross rent'),\n",
       " (0.25201327375848986, 'Per Capita Income'),\n",
       " (0.039969636169588256, 'Population Density'),\n",
       " (0.03297379028293199, 'house_age'),\n",
       " (0.031008439769198304, 'Median Age'),\n",
       " (0.02595061063366613, 'Poverty Rate'),\n",
       " (0.025679269818426394, 'Household Income'),\n",
       " (0.02144225476242974, 'Unemployment rate'),\n",
       " (0.019511484573317965, 'Masters holders'),\n",
       " (0.01713879923206799, 'pop_arc/eng'),\n",
       " (0.01346120386484591, 'Population'),\n",
       " (0.010923973541527549, 'Unemployment')]"
      ]
     },
     "execution_count": 55,
     "metadata": {},
     "output_type": "execute_result"
    }
   ],
   "source": [
    "importances_list"
   ]
  },
  {
   "cell_type": "code",
   "execution_count": 56,
   "metadata": {},
   "outputs": [
    {
     "data": {
      "text/plain": [
       "0.8097876445803069"
      ]
     },
     "execution_count": 56,
     "metadata": {},
     "output_type": "execute_result"
    }
   ],
   "source": [
    "# R2 for testing data\n",
    "rf.score(X_test_scaled, y_test_scaled)"
   ]
  },
  {
   "cell_type": "code",
   "execution_count": 57,
   "metadata": {},
   "outputs": [],
   "source": [
    "# load the model\n",
    "loaded_model = pickle.load(open(filename, 'rb'))\n",
    "result = loaded_model.score(X_test_scaled, y_test_scaled)"
   ]
  },
  {
   "cell_type": "code",
   "execution_count": 58,
   "metadata": {},
   "outputs": [
    {
     "data": {
      "text/plain": [
       "0.8097876445803069"
      ]
     },
     "execution_count": 58,
     "metadata": {},
     "output_type": "execute_result"
    }
   ],
   "source": [
    "result"
   ]
  },
  {
   "cell_type": "code",
   "execution_count": 60,
   "metadata": {},
   "outputs": [
    {
     "data": {
      "text/plain": [
       "array([246392.66666667])"
      ]
     },
     "execution_count": 60,
     "metadata": {},
     "output_type": "execute_result"
    }
   ],
   "source": [
    "# Make a prediction\n",
    "X_scaled_new = [[-0.31078969,  0.91738345,  0.82866739,  0.34154584, -0.27276221,\n",
    "        0.58311992, -0.45964101, -0.22551918,  0.32921035, -0.37015243,\n",
    "       -0.01418429, -0.25559417]]\n",
    "prediction_scaled = rf.predict(X_scaled_new)\n",
    "prediction = y_scaler.inverse_transform(prediction_scaled)\n",
    "prediction"
   ]
  },
  {
   "cell_type": "code",
   "execution_count": 61,
   "metadata": {},
   "outputs": [
    {
     "data": {
      "text/plain": [
       "array([246392.66666667])"
      ]
     },
     "execution_count": 61,
     "metadata": {},
     "output_type": "execute_result"
    }
   ],
   "source": [
    "# Make a prediction\n",
    "# X_scaled_new = ([[ 0.90809856,  1.35009033, -0.01890773,  0.94549878, -0.82941627, 0 ]])\n",
    "# X_scaled_new = [[ 0.80809856,  1.35009033,  3.48460584, 0.3456,  0.34549878, -0.82941627,  0.2246137 ]]\n",
    "prediction_scaled = loaded_model.predict(X_scaled_new)\n",
    "prediction = y_scaler.inverse_transform(prediction_scaled)\n",
    "prediction"
   ]
  },
  {
   "cell_type": "code",
   "execution_count": 62,
   "metadata": {},
   "outputs": [
    {
     "data": {
      "text/plain": [
       "array([0.0134612 , 0.03100844, 0.02567927, 0.25201327, 0.01951148,\n",
       "       0.50992726, 0.02595061, 0.01092397, 0.02144225, 0.0171388 ,\n",
       "       0.03297379, 0.03996964])"
      ]
     },
     "execution_count": 62,
     "metadata": {},
     "output_type": "execute_result"
    }
   ],
   "source": [
    "loaded_model.feature_importances_"
   ]
  },
  {
   "cell_type": "code",
   "execution_count": 65,
   "metadata": {},
   "outputs": [],
   "source": [
    "importances = loaded_model.feature_importances_\n",
    "importances_list = sorted(zip(loaded_model.feature_importances_, X.keys()), reverse=True)"
   ]
  },
  {
   "cell_type": "code",
   "execution_count": 64,
   "metadata": {},
   "outputs": [
    {
     "data": {
      "text/plain": [
       "[(0.5099272635935101, 'Median gross rent'),\n",
       " (0.25201327375848986, 'Per Capita Income'),\n",
       " (0.039969636169588256, 'Population Density'),\n",
       " (0.03297379028293199, 'house_age'),\n",
       " (0.031008439769198304, 'Median Age'),\n",
       " (0.02595061063366613, 'Poverty Rate'),\n",
       " (0.025679269818426394, 'Household Income'),\n",
       " (0.02144225476242974, 'Unemployment rate'),\n",
       " (0.019511484573317965, 'Masters holders'),\n",
       " (0.01713879923206799, 'pop_arc/eng'),\n",
       " (0.01346120386484591, 'Population'),\n",
       " (0.010923973541527549, 'Unemployment')]"
      ]
     },
     "execution_count": 64,
     "metadata": {},
     "output_type": "execute_result"
    }
   ],
   "source": [
    "importances_list_new"
   ]
  },
  {
   "cell_type": "code",
   "execution_count": null,
   "metadata": {},
   "outputs": [],
   "source": []
  }
 ],
 "metadata": {
  "kernelspec": {
   "display_name": "Python 3",
   "language": "python",
   "name": "python3"
  },
  "language_info": {
   "codemirror_mode": {
    "name": "ipython",
    "version": 3
   },
   "file_extension": ".py",
   "mimetype": "text/x-python",
   "name": "python",
   "nbconvert_exporter": "python",
   "pygments_lexer": "ipython3",
   "version": "3.6.7"
  }
 },
 "nbformat": 4,
 "nbformat_minor": 2
}
